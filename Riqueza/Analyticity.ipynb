{
 "cells": [
  {
   "cell_type": "code",
   "execution_count": 156,
   "metadata": {
    "collapsed": true
   },
   "outputs": [],
   "source": [
    "import pandas as pd\n",
    "import numpy as np\n",
    "import matplotlib.pyplot as plt\n",
    "%matplotlib inline\n",
    "import seaborn as sb"
   ]
  },
  {
   "cell_type": "code",
   "execution_count": 157,
   "metadata": {
    "collapsed": false
   },
   "outputs": [],
   "source": [
    "train=pd.read_csv('Training_data.csv')\n",
    "test=pd.read_csv('Test Data.csv')"
   ]
  },
  {
   "cell_type": "code",
   "execution_count": 158,
   "metadata": {
    "collapsed": false
   },
   "outputs": [
    {
     "name": "stdout",
     "output_type": "stream",
     "text": [
      "    Serial        date  time of year  Year  Hour  Day off  Weekday  \\\n",
      "0        1  01-01-2011             1     0     0        0        6   \n",
      "1        2  01-01-2011             1     0     1        0        6   \n",
      "2        3  01-01-2011             1     0     3        0        6   \n",
      "3        4  01-01-2011             1     0     4        0        6   \n",
      "4        5  01-01-2011             1     0     6        0        6   \n",
      "5        6  01-01-2011             1     0     7        0        6   \n",
      "6        7  01-01-2011             1     0    11        0        6   \n",
      "7        8  01-01-2011             1     0    15        0        6   \n",
      "8        9  01-01-2011             1     0    17        0        6   \n",
      "9       10  01-01-2011             1     0    21        0        6   \n",
      "10      11  01-01-2011             1     0    23        0        6   \n",
      "11      12  02-01-2011             1     0     0        0        0   \n",
      "12      13  02-01-2011             1     0     3        0        0   \n",
      "13      14  02-01-2011             1     0     4        0        0   \n",
      "14      15  02-01-2011             1     0     8        0        0   \n",
      "15      16  02-01-2011             1     0    13        0        0   \n",
      "16      17  02-01-2011             1     0    19        0        0   \n",
      "17      18  02-01-2011             1     0    21        0        0   \n",
      "18      19  03-01-2011             1     0     0        0        1   \n",
      "19      20  03-01-2011             1     0     1        0        1   \n",
      "\n",
      "    Workingday  Weather  Temp  Feel_Temp   Humidity  Fog Density  Foreigners  \\\n",
      "0            0        1  0.24     0.2879   0.757754         0.81           3   \n",
      "1            0        1  0.22     0.2727   0.725487         0.80           8   \n",
      "2            0        1  0.24     0.2879   0.750239         0.75           3   \n",
      "3            0        1  0.24     0.2879   0.786713         0.75           0   \n",
      "4            0        1  0.22     0.2727   0.788794         0.80           2   \n",
      "5            0        1  0.20     0.2576   0.784772         0.86           1   \n",
      "6            0        1  0.36     0.3333   0.760312         0.81          26   \n",
      "7            0        2  0.44     0.4394   0.770238         0.77          40   \n",
      "8            0        2  0.44     0.4394   0.764819         0.82          15   \n",
      "9            0        2  0.40     0.4091   0.751657         0.87           3   \n",
      "10           0        2  0.46     0.4545   0.746495         0.88          15   \n",
      "11           0        2  0.46     0.4545   0.736560         0.88           4   \n",
      "12           0        2  0.46     0.4545   0.735295         0.94           2   \n",
      "13           0        2  0.46     0.4545   0.741736         0.94           2   \n",
      "14           0        3  0.40     0.4091   0.740795         0.71           0   \n",
      "15           0        2  0.36     0.3485   0.769111         0.66          11   \n",
      "16           0        1  0.32     0.2879   0.755183         0.42           1   \n",
      "17           0        1  0.26     0.2273   0.735161         0.44          11   \n",
      "18           1        1  0.22     0.1970   0.795054         0.44           0   \n",
      "19           1        1  0.20     0.1667   0.839268         0.44           0   \n",
      "\n",
      "    Local  Total Visitors  \n",
      "0      13              16  \n",
      "1      32              40  \n",
      "2      10              13  \n",
      "3       1               1  \n",
      "4       0               2  \n",
      "5       2               3  \n",
      "6      30              56  \n",
      "7      70             110  \n",
      "8      52              67  \n",
      "9      31              34  \n",
      "10     24              39  \n",
      "11     13              17  \n",
      "12      4               6  \n",
      "13      1               3  \n",
      "14      8               8  \n",
      "15     64              75  \n",
      "16     29              30  \n",
      "17     20              31  \n",
      "18      5               5  \n",
      "19      2               2  \n"
     ]
    },
    {
     "data": {
      "text/html": [
       "<div>\n",
       "<table border=\"1\" class=\"dataframe\">\n",
       "  <thead>\n",
       "    <tr style=\"text-align: right;\">\n",
       "      <th></th>\n",
       "      <th>Serial</th>\n",
       "      <th>date</th>\n",
       "      <th>time of year</th>\n",
       "      <th>Year</th>\n",
       "      <th>Hour</th>\n",
       "      <th>Day off</th>\n",
       "      <th>Weekday</th>\n",
       "      <th>Workingday</th>\n",
       "      <th>Weather</th>\n",
       "      <th>Temp</th>\n",
       "      <th>Feel_Temp</th>\n",
       "      <th>Humidity</th>\n",
       "      <th>Fog Density</th>\n",
       "    </tr>\n",
       "  </thead>\n",
       "  <tbody>\n",
       "    <tr>\n",
       "      <th>0</th>\n",
       "      <td>1</td>\n",
       "      <td>01-03-2012</td>\n",
       "      <td>1</td>\n",
       "      <td>1</td>\n",
       "      <td>0</td>\n",
       "      <td>0</td>\n",
       "      <td>4</td>\n",
       "      <td>1</td>\n",
       "      <td>2</td>\n",
       "      <td>0.42</td>\n",
       "      <td>0.4242</td>\n",
       "      <td>1.002583</td>\n",
       "      <td>0.94</td>\n",
       "    </tr>\n",
       "    <tr>\n",
       "      <th>1</th>\n",
       "      <td>2</td>\n",
       "      <td>01-03-2012</td>\n",
       "      <td>1</td>\n",
       "      <td>1</td>\n",
       "      <td>1</td>\n",
       "      <td>0</td>\n",
       "      <td>4</td>\n",
       "      <td>1</td>\n",
       "      <td>3</td>\n",
       "      <td>0.46</td>\n",
       "      <td>0.4545</td>\n",
       "      <td>1.029196</td>\n",
       "      <td>0.94</td>\n",
       "    </tr>\n",
       "    <tr>\n",
       "      <th>2</th>\n",
       "      <td>3</td>\n",
       "      <td>01-03-2012</td>\n",
       "      <td>1</td>\n",
       "      <td>1</td>\n",
       "      <td>3</td>\n",
       "      <td>0</td>\n",
       "      <td>4</td>\n",
       "      <td>1</td>\n",
       "      <td>1</td>\n",
       "      <td>0.46</td>\n",
       "      <td>0.4545</td>\n",
       "      <td>1.043232</td>\n",
       "      <td>0.94</td>\n",
       "    </tr>\n",
       "    <tr>\n",
       "      <th>3</th>\n",
       "      <td>4</td>\n",
       "      <td>01-03-2012</td>\n",
       "      <td>1</td>\n",
       "      <td>1</td>\n",
       "      <td>4</td>\n",
       "      <td>0</td>\n",
       "      <td>4</td>\n",
       "      <td>1</td>\n",
       "      <td>1</td>\n",
       "      <td>0.48</td>\n",
       "      <td>0.4697</td>\n",
       "      <td>1.067031</td>\n",
       "      <td>0.88</td>\n",
       "    </tr>\n",
       "    <tr>\n",
       "      <th>4</th>\n",
       "      <td>5</td>\n",
       "      <td>01-03-2012</td>\n",
       "      <td>1</td>\n",
       "      <td>1</td>\n",
       "      <td>7</td>\n",
       "      <td>0</td>\n",
       "      <td>4</td>\n",
       "      <td>1</td>\n",
       "      <td>2</td>\n",
       "      <td>0.44</td>\n",
       "      <td>0.4394</td>\n",
       "      <td>1.097947</td>\n",
       "      <td>0.94</td>\n",
       "    </tr>\n",
       "  </tbody>\n",
       "</table>\n",
       "</div>"
      ],
      "text/plain": [
       "   Serial        date  time of year  Year  Hour  Day off  Weekday  Workingday  \\\n",
       "0       1  01-03-2012             1     1     0        0        4           1   \n",
       "1       2  01-03-2012             1     1     1        0        4           1   \n",
       "2       3  01-03-2012             1     1     3        0        4           1   \n",
       "3       4  01-03-2012             1     1     4        0        4           1   \n",
       "4       5  01-03-2012             1     1     7        0        4           1   \n",
       "\n",
       "   Weather  Temp  Feel_Temp   Humidity  Fog Density  \n",
       "0        2  0.42     0.4242   1.002583         0.94  \n",
       "1        3  0.46     0.4545   1.029196         0.94  \n",
       "2        1  0.46     0.4545   1.043232         0.94  \n",
       "3        1  0.48     0.4697   1.067031         0.88  \n",
       "4        2  0.44     0.4394   1.097947         0.94  "
      ]
     },
     "execution_count": 158,
     "metadata": {},
     "output_type": "execute_result"
    }
   ],
   "source": [
    "print train.head(20)\n",
    "test.head()"
   ]
  },
  {
   "cell_type": "code",
   "execution_count": 159,
   "metadata": {
    "collapsed": false
   },
   "outputs": [
    {
     "data": {
      "text/plain": [
       "Serial            0\n",
       "date              0\n",
       "time of year      0\n",
       "Year              0\n",
       "Hour              0\n",
       "Day off           0\n",
       "Weekday           0\n",
       "Workingday        0\n",
       "Weather           0\n",
       "Temp              0\n",
       "Feel_Temp         0\n",
       " Humidity         0\n",
       "Fog Density       0\n",
       "Foreigners        0\n",
       "Local             0\n",
       "Total Visitors    0\n",
       "dtype: int64"
      ]
     },
     "execution_count": 159,
     "metadata": {},
     "output_type": "execute_result"
    }
   ],
   "source": [
    "train.isnull().sum()"
   ]
  },
  {
   "cell_type": "code",
   "execution_count": 160,
   "metadata": {
    "collapsed": false,
    "scrolled": false
   },
   "outputs": [
    {
     "data": {
      "text/html": [
       "<div>\n",
       "<table border=\"1\" class=\"dataframe\">\n",
       "  <thead>\n",
       "    <tr style=\"text-align: right;\">\n",
       "      <th></th>\n",
       "      <th>Serial</th>\n",
       "      <th>date</th>\n",
       "      <th>time of year</th>\n",
       "      <th>Year</th>\n",
       "      <th>Hour</th>\n",
       "      <th>Day off</th>\n",
       "      <th>Weekday</th>\n",
       "      <th>Workingday</th>\n",
       "      <th>Weather</th>\n",
       "      <th>Temp</th>\n",
       "      <th>Feel_Temp</th>\n",
       "      <th>Humidity</th>\n",
       "      <th>Fog Density</th>\n",
       "      <th>Foreigners</th>\n",
       "      <th>Local</th>\n",
       "      <th>Total Visitors</th>\n",
       "    </tr>\n",
       "  </thead>\n",
       "  <tbody>\n",
       "    <tr>\n",
       "      <th>772</th>\n",
       "      <td>773</td>\n",
       "      <td>01-03-2011</td>\n",
       "      <td>1</td>\n",
       "      <td>0</td>\n",
       "      <td>0</td>\n",
       "      <td>0</td>\n",
       "      <td>2</td>\n",
       "      <td>1</td>\n",
       "      <td>1</td>\n",
       "      <td>0.30</td>\n",
       "      <td>0.2727</td>\n",
       "      <td>0.642758</td>\n",
       "      <td>0.70</td>\n",
       "      <td>0</td>\n",
       "      <td>7</td>\n",
       "      <td>7</td>\n",
       "    </tr>\n",
       "    <tr>\n",
       "      <th>773</th>\n",
       "      <td>774</td>\n",
       "      <td>01-03-2011</td>\n",
       "      <td>1</td>\n",
       "      <td>0</td>\n",
       "      <td>1</td>\n",
       "      <td>0</td>\n",
       "      <td>2</td>\n",
       "      <td>1</td>\n",
       "      <td>1</td>\n",
       "      <td>0.26</td>\n",
       "      <td>0.2273</td>\n",
       "      <td>0.616315</td>\n",
       "      <td>0.70</td>\n",
       "      <td>0</td>\n",
       "      <td>3</td>\n",
       "      <td>3</td>\n",
       "    </tr>\n",
       "    <tr>\n",
       "      <th>774</th>\n",
       "      <td>775</td>\n",
       "      <td>01-03-2011</td>\n",
       "      <td>1</td>\n",
       "      <td>0</td>\n",
       "      <td>3</td>\n",
       "      <td>0</td>\n",
       "      <td>2</td>\n",
       "      <td>1</td>\n",
       "      <td>1</td>\n",
       "      <td>0.22</td>\n",
       "      <td>0.2121</td>\n",
       "      <td>0.595699</td>\n",
       "      <td>0.69</td>\n",
       "      <td>0</td>\n",
       "      <td>2</td>\n",
       "      <td>2</td>\n",
       "    </tr>\n",
       "    <tr>\n",
       "      <th>775</th>\n",
       "      <td>776</td>\n",
       "      <td>01-03-2011</td>\n",
       "      <td>1</td>\n",
       "      <td>0</td>\n",
       "      <td>5</td>\n",
       "      <td>0</td>\n",
       "      <td>2</td>\n",
       "      <td>1</td>\n",
       "      <td>1</td>\n",
       "      <td>0.20</td>\n",
       "      <td>0.1818</td>\n",
       "      <td>0.544208</td>\n",
       "      <td>0.64</td>\n",
       "      <td>1</td>\n",
       "      <td>1</td>\n",
       "      <td>2</td>\n",
       "    </tr>\n",
       "    <tr>\n",
       "      <th>776</th>\n",
       "      <td>777</td>\n",
       "      <td>01-03-2011</td>\n",
       "      <td>1</td>\n",
       "      <td>0</td>\n",
       "      <td>7</td>\n",
       "      <td>0</td>\n",
       "      <td>2</td>\n",
       "      <td>1</td>\n",
       "      <td>1</td>\n",
       "      <td>0.20</td>\n",
       "      <td>0.1818</td>\n",
       "      <td>0.560470</td>\n",
       "      <td>0.59</td>\n",
       "      <td>2</td>\n",
       "      <td>105</td>\n",
       "      <td>107</td>\n",
       "    </tr>\n",
       "    <tr>\n",
       "      <th>777</th>\n",
       "      <td>778</td>\n",
       "      <td>01-03-2011</td>\n",
       "      <td>1</td>\n",
       "      <td>0</td>\n",
       "      <td>8</td>\n",
       "      <td>0</td>\n",
       "      <td>2</td>\n",
       "      <td>1</td>\n",
       "      <td>1</td>\n",
       "      <td>0.20</td>\n",
       "      <td>0.1818</td>\n",
       "      <td>0.536369</td>\n",
       "      <td>0.59</td>\n",
       "      <td>10</td>\n",
       "      <td>204</td>\n",
       "      <td>214</td>\n",
       "    </tr>\n",
       "    <tr>\n",
       "      <th>778</th>\n",
       "      <td>779</td>\n",
       "      <td>01-03-2011</td>\n",
       "      <td>1</td>\n",
       "      <td>0</td>\n",
       "      <td>9</td>\n",
       "      <td>0</td>\n",
       "      <td>2</td>\n",
       "      <td>1</td>\n",
       "      <td>1</td>\n",
       "      <td>0.22</td>\n",
       "      <td>0.1970</td>\n",
       "      <td>0.486762</td>\n",
       "      <td>0.55</td>\n",
       "      <td>8</td>\n",
       "      <td>116</td>\n",
       "      <td>124</td>\n",
       "    </tr>\n",
       "    <tr>\n",
       "      <th>779</th>\n",
       "      <td>780</td>\n",
       "      <td>01-03-2011</td>\n",
       "      <td>1</td>\n",
       "      <td>0</td>\n",
       "      <td>11</td>\n",
       "      <td>0</td>\n",
       "      <td>2</td>\n",
       "      <td>1</td>\n",
       "      <td>1</td>\n",
       "      <td>0.28</td>\n",
       "      <td>0.2727</td>\n",
       "      <td>0.585175</td>\n",
       "      <td>0.45</td>\n",
       "      <td>8</td>\n",
       "      <td>48</td>\n",
       "      <td>56</td>\n",
       "    </tr>\n",
       "    <tr>\n",
       "      <th>780</th>\n",
       "      <td>781</td>\n",
       "      <td>01-03-2011</td>\n",
       "      <td>1</td>\n",
       "      <td>0</td>\n",
       "      <td>13</td>\n",
       "      <td>0</td>\n",
       "      <td>2</td>\n",
       "      <td>1</td>\n",
       "      <td>1</td>\n",
       "      <td>0.32</td>\n",
       "      <td>0.3485</td>\n",
       "      <td>0.687147</td>\n",
       "      <td>0.39</td>\n",
       "      <td>13</td>\n",
       "      <td>65</td>\n",
       "      <td>78</td>\n",
       "    </tr>\n",
       "    <tr>\n",
       "      <th>781</th>\n",
       "      <td>782</td>\n",
       "      <td>01-03-2011</td>\n",
       "      <td>1</td>\n",
       "      <td>0</td>\n",
       "      <td>15</td>\n",
       "      <td>0</td>\n",
       "      <td>2</td>\n",
       "      <td>1</td>\n",
       "      <td>1</td>\n",
       "      <td>0.34</td>\n",
       "      <td>0.3636</td>\n",
       "      <td>0.770567</td>\n",
       "      <td>0.34</td>\n",
       "      <td>7</td>\n",
       "      <td>57</td>\n",
       "      <td>64</td>\n",
       "    </tr>\n",
       "  </tbody>\n",
       "</table>\n",
       "</div>"
      ],
      "text/plain": [
       "     Serial        date  time of year  Year  Hour  Day off  Weekday  \\\n",
       "772     773  01-03-2011             1     0     0        0        2   \n",
       "773     774  01-03-2011             1     0     1        0        2   \n",
       "774     775  01-03-2011             1     0     3        0        2   \n",
       "775     776  01-03-2011             1     0     5        0        2   \n",
       "776     777  01-03-2011             1     0     7        0        2   \n",
       "777     778  01-03-2011             1     0     8        0        2   \n",
       "778     779  01-03-2011             1     0     9        0        2   \n",
       "779     780  01-03-2011             1     0    11        0        2   \n",
       "780     781  01-03-2011             1     0    13        0        2   \n",
       "781     782  01-03-2011             1     0    15        0        2   \n",
       "\n",
       "     Workingday  Weather  Temp  Feel_Temp   Humidity  Fog Density  Foreigners  \\\n",
       "772           1        1  0.30     0.2727   0.642758         0.70           0   \n",
       "773           1        1  0.26     0.2273   0.616315         0.70           0   \n",
       "774           1        1  0.22     0.2121   0.595699         0.69           0   \n",
       "775           1        1  0.20     0.1818   0.544208         0.64           1   \n",
       "776           1        1  0.20     0.1818   0.560470         0.59           2   \n",
       "777           1        1  0.20     0.1818   0.536369         0.59          10   \n",
       "778           1        1  0.22     0.1970   0.486762         0.55           8   \n",
       "779           1        1  0.28     0.2727   0.585175         0.45           8   \n",
       "780           1        1  0.32     0.3485   0.687147         0.39          13   \n",
       "781           1        1  0.34     0.3636   0.770567         0.34           7   \n",
       "\n",
       "     Local  Total Visitors  \n",
       "772      7               7  \n",
       "773      3               3  \n",
       "774      2               2  \n",
       "775      1               2  \n",
       "776    105             107  \n",
       "777    204             214  \n",
       "778    116             124  \n",
       "779     48              56  \n",
       "780     65              78  \n",
       "781     57              64  "
      ]
     },
     "execution_count": 160,
     "metadata": {},
     "output_type": "execute_result"
    }
   ],
   "source": [
    "train[train.date=='01-03-2011'].head(10)"
   ]
  },
  {
   "cell_type": "code",
   "execution_count": 161,
   "metadata": {
    "collapsed": false
   },
   "outputs": [
    {
     "name": "stdout",
     "output_type": "stream",
     "text": [
      "<class 'pandas.core.frame.DataFrame'>\n",
      "RangeIndex: 6061 entries, 0 to 6060\n",
      "Data columns (total 14 columns):\n",
      "time of year      6061 non-null int64\n",
      "Year              6061 non-null int64\n",
      "Hour              6061 non-null int64\n",
      "Day off           6061 non-null int64\n",
      "Weekday           6061 non-null int64\n",
      "Workingday        6061 non-null int64\n",
      "Weather           6061 non-null int64\n",
      "Temp              6061 non-null float64\n",
      "Feel_Temp         6061 non-null float64\n",
      " Humidity         6061 non-null float64\n",
      "Fog Density       6061 non-null float64\n",
      "Foreigners        6061 non-null int64\n",
      "Local             6061 non-null int64\n",
      "Total Visitors    6061 non-null int64\n",
      "dtypes: float64(4), int64(10)\n",
      "memory usage: 663.0 KB\n"
     ]
    }
   ],
   "source": [
    "main_train=train.drop(['date', 'Serial'], axis=1)\n",
    "test=test.drop('date', axis=1)\n",
    "test=test.drop('Serial', axis=1)\n",
    "main_train.info() "
   ]
  },
  {
   "cell_type": "code",
   "execution_count": 162,
   "metadata": {
    "collapsed": false
   },
   "outputs": [
    {
     "data": {
      "text/plain": [
       "<matplotlib.axes._subplots.AxesSubplot at 0x7f972720b3d0>"
      ]
     },
     "execution_count": 162,
     "metadata": {},
     "output_type": "execute_result"
    },
    {
     "data": {
      "image/png": "[encoded data removed]",
      "text/plain": [
       "<matplotlib.figure.Figure at 0x7f973606e990>"
      ]
     },
     "metadata": {},
     "output_type": "display_data"
    },
    {
     "data": {
      "image/png": "[encoded data removed]",
      "text/plain": [
       "<matplotlib.figure.Figure at 0x7f973606e790>"
      ]
     },
     "metadata": {},
     "output_type": "display_data"
    }
   ],
   "source": [
    "fig,(ax1,ax2)=plt.subplots(1,2,figsize=(15,5))\n",
    "sb.barplot(x='Hour', y='Total Visitors', data=main_train, hue='Workingday', ax=ax1)\n",
    "sb.barplot(x='Weekday', y='Total Visitors', data=main_train, hue='Workingday', ax=ax2)\n",
    "\n",
    "fig,(ax1,ax2)=plt.subplots(1,2,figsize=(15,5))\n",
    "sb.barplot(x='time of year', y='Total Visitors', data=main_train, hue='Workingday', ax=ax1)\n",
    "sb.barplot(x='Day off', y='Total Visitors', data=main_train, hue='Workingday', ax=ax2)"
   ]
  },
  {
   "cell_type": "code",
   "execution_count": null,
   "metadata": {
    "collapsed": true
   },
   "outputs": [],
   "source": []
  },
  {
   "cell_type": "code",
   "execution_count": 163,
   "metadata": {
    "collapsed": false
   },
   "outputs": [
    {
     "data": {
      "text/plain": [
       "<matplotlib.axes._subplots.AxesSubplot at 0x7f9726fbfe10>"
      ]
     },
     "execution_count": 163,
     "metadata": {},
     "output_type": "execute_result"
    },
    {
     "data": {
      "image/png": "[encoded data removed]",
      "text/plain": [
       "<matplotlib.figure.Figure at 0x7f973610f310>"
      ]
     },
     "metadata": {},
     "output_type": "display_data"
    },
    {
     "data": {
      "image/png": "[encoded data removed]",
      "text/plain": [
       "<matplotlib.figure.Figure at 0x7f9726fecc50>"
      ]
     },
     "metadata": {},
     "output_type": "display_data"
    }
   ],
   "source": [
    "main_train['slot']=0\n",
    "main_train.loc[main_train['Hour']<7, 'slot']=1\n",
    "main_train.loc[(main_train['Hour']>6) & (main_train['Hour']<11), 'slot']=2\n",
    "main_train.loc[(main_train['Hour']>10) & (main_train['Hour']<17), 'slot']=3\n",
    "main_train.loc[(main_train['Hour']>16) & (main_train['Hour']<21), 'slot']=4\n",
    "main_train.loc[(main_train['Hour']>20) & (main_train['Hour']<25), 'slot']=4\n",
    "\n",
    "sb.boxplot(main_train[' Humidity'],)\n",
    "main_train=main_train.loc[main_train[' Humidity']>-100]\n",
    "main_train=main_train.loc[main_train['Fog Density']>0.03]\n",
    "\n",
    "fig, (ax1, ax2)=plt.subplots(1,2)\n",
    "sb.boxplot(main_train[' Humidity'], ax=ax1)\n",
    "sb.boxplot(main_train['Fog Density'], ax=ax2)"
   ]
  },
  {
   "cell_type": "code",
   "execution_count": 164,
   "metadata": {
    "collapsed": false
   },
   "outputs": [
    {
     "data": {
      "text/plain": [
       "<matplotlib.axes._subplots.AxesSubplot at 0x7f9726d95450>"
      ]
     },
     "execution_count": 164,
     "metadata": {},
     "output_type": "execute_result"
    },
    {
     "data": {
      "image/png": "[encoded data removed]",
      "text/plain": [
       "<matplotlib.figure.Figure at 0x7f9727060ad0>"
      ]
     },
     "metadata": {},
     "output_type": "display_data"
    }
   ],
   "source": [
    "\n",
    "fig,(ax1,ax2)=plt.subplots(1,2,figsize=(15,5))\n",
    "sb.distplot(main_train['Temp'],rug=True, ax=ax1, kde=True, hist=False,)\n",
    "sb.distplot(main_train['Feel_Temp'], color='red', rug=True, ax=ax1, kde=True, hist=False)\n",
    "sb.distplot(main_train['Fog Density'], ax=ax2, hist=True)\n"
   ]
  },
  {
   "cell_type": "code",
   "execution_count": 165,
   "metadata": {
    "collapsed": false,
    "scrolled": true
   },
   "outputs": [
    {
     "data": {
      "text/plain": [
       "<matplotlib.axes._subplots.AxesSubplot at 0x7f972606d750>"
      ]
     },
     "execution_count": 165,
     "metadata": {},
     "output_type": "execute_result"
    },
    {
     "data": {
      "image/png": "[encoded data removed]",
      "text/plain": [
       "<matplotlib.figure.Figure at 0x7f972604c050>"
      ]
     },
     "metadata": {},
     "output_type": "display_data"
    }
   ],
   "source": [
    "corr = main_train.corr()\n",
    "sb.heatmap(corr, \n",
    "            xticklabels=corr.columns.values,\n",
    "            yticklabels=corr.columns.values)"
   ]
  },
  {
   "cell_type": "code",
   "execution_count": 166,
   "metadata": {
    "collapsed": false
   },
   "outputs": [
    {
     "data": {
      "text/html": [
       "<div>\n",
       "<table border=\"1\" class=\"dataframe\">\n",
       "  <thead>\n",
       "    <tr style=\"text-align: right;\">\n",
       "      <th></th>\n",
       "      <th>time of year</th>\n",
       "      <th>Year</th>\n",
       "      <th>Hour</th>\n",
       "      <th>Day off</th>\n",
       "      <th>Weekday</th>\n",
       "      <th>Workingday</th>\n",
       "      <th>Weather</th>\n",
       "      <th>Temp</th>\n",
       "      <th>Feel_Temp</th>\n",
       "      <th>Humidity</th>\n",
       "      <th>Fog Density</th>\n",
       "      <th>Foreigners</th>\n",
       "      <th>Local</th>\n",
       "      <th>Total Visitors</th>\n",
       "      <th>slot</th>\n",
       "      <th>temp_cat</th>\n",
       "      <th>Humidity_cat</th>\n",
       "    </tr>\n",
       "  </thead>\n",
       "  <tbody>\n",
       "    <tr>\n",
       "      <th>0</th>\n",
       "      <td>1</td>\n",
       "      <td>0</td>\n",
       "      <td>0</td>\n",
       "      <td>0</td>\n",
       "      <td>6</td>\n",
       "      <td>0</td>\n",
       "      <td>1</td>\n",
       "      <td>0.24</td>\n",
       "      <td>0.2879</td>\n",
       "      <td>0.757754</td>\n",
       "      <td>0.81</td>\n",
       "      <td>3</td>\n",
       "      <td>13</td>\n",
       "      <td>16</td>\n",
       "      <td>1</td>\n",
       "      <td>2</td>\n",
       "      <td>7</td>\n",
       "    </tr>\n",
       "    <tr>\n",
       "      <th>1</th>\n",
       "      <td>1</td>\n",
       "      <td>0</td>\n",
       "      <td>1</td>\n",
       "      <td>0</td>\n",
       "      <td>6</td>\n",
       "      <td>0</td>\n",
       "      <td>1</td>\n",
       "      <td>0.22</td>\n",
       "      <td>0.2727</td>\n",
       "      <td>0.725487</td>\n",
       "      <td>0.80</td>\n",
       "      <td>8</td>\n",
       "      <td>32</td>\n",
       "      <td>40</td>\n",
       "      <td>1</td>\n",
       "      <td>2</td>\n",
       "      <td>7</td>\n",
       "    </tr>\n",
       "    <tr>\n",
       "      <th>2</th>\n",
       "      <td>1</td>\n",
       "      <td>0</td>\n",
       "      <td>3</td>\n",
       "      <td>0</td>\n",
       "      <td>6</td>\n",
       "      <td>0</td>\n",
       "      <td>1</td>\n",
       "      <td>0.24</td>\n",
       "      <td>0.2879</td>\n",
       "      <td>0.750239</td>\n",
       "      <td>0.75</td>\n",
       "      <td>3</td>\n",
       "      <td>10</td>\n",
       "      <td>13</td>\n",
       "      <td>1</td>\n",
       "      <td>2</td>\n",
       "      <td>7</td>\n",
       "    </tr>\n",
       "    <tr>\n",
       "      <th>3</th>\n",
       "      <td>1</td>\n",
       "      <td>0</td>\n",
       "      <td>4</td>\n",
       "      <td>0</td>\n",
       "      <td>6</td>\n",
       "      <td>0</td>\n",
       "      <td>1</td>\n",
       "      <td>0.24</td>\n",
       "      <td>0.2879</td>\n",
       "      <td>0.786713</td>\n",
       "      <td>0.75</td>\n",
       "      <td>0</td>\n",
       "      <td>1</td>\n",
       "      <td>1</td>\n",
       "      <td>1</td>\n",
       "      <td>2</td>\n",
       "      <td>7</td>\n",
       "    </tr>\n",
       "    <tr>\n",
       "      <th>4</th>\n",
       "      <td>1</td>\n",
       "      <td>0</td>\n",
       "      <td>6</td>\n",
       "      <td>0</td>\n",
       "      <td>6</td>\n",
       "      <td>0</td>\n",
       "      <td>1</td>\n",
       "      <td>0.22</td>\n",
       "      <td>0.2727</td>\n",
       "      <td>0.788794</td>\n",
       "      <td>0.80</td>\n",
       "      <td>2</td>\n",
       "      <td>0</td>\n",
       "      <td>2</td>\n",
       "      <td>1</td>\n",
       "      <td>2</td>\n",
       "      <td>7</td>\n",
       "    </tr>\n",
       "    <tr>\n",
       "      <th>5</th>\n",
       "      <td>1</td>\n",
       "      <td>0</td>\n",
       "      <td>7</td>\n",
       "      <td>0</td>\n",
       "      <td>6</td>\n",
       "      <td>0</td>\n",
       "      <td>1</td>\n",
       "      <td>0.20</td>\n",
       "      <td>0.2576</td>\n",
       "      <td>0.784772</td>\n",
       "      <td>0.86</td>\n",
       "      <td>1</td>\n",
       "      <td>2</td>\n",
       "      <td>3</td>\n",
       "      <td>2</td>\n",
       "      <td>2</td>\n",
       "      <td>7</td>\n",
       "    </tr>\n",
       "    <tr>\n",
       "      <th>6</th>\n",
       "      <td>1</td>\n",
       "      <td>0</td>\n",
       "      <td>11</td>\n",
       "      <td>0</td>\n",
       "      <td>6</td>\n",
       "      <td>0</td>\n",
       "      <td>1</td>\n",
       "      <td>0.36</td>\n",
       "      <td>0.3333</td>\n",
       "      <td>0.760312</td>\n",
       "      <td>0.81</td>\n",
       "      <td>26</td>\n",
       "      <td>30</td>\n",
       "      <td>56</td>\n",
       "      <td>3</td>\n",
       "      <td>3</td>\n",
       "      <td>7</td>\n",
       "    </tr>\n",
       "    <tr>\n",
       "      <th>7</th>\n",
       "      <td>1</td>\n",
       "      <td>0</td>\n",
       "      <td>15</td>\n",
       "      <td>0</td>\n",
       "      <td>6</td>\n",
       "      <td>0</td>\n",
       "      <td>2</td>\n",
       "      <td>0.44</td>\n",
       "      <td>0.4394</td>\n",
       "      <td>0.770238</td>\n",
       "      <td>0.77</td>\n",
       "      <td>40</td>\n",
       "      <td>70</td>\n",
       "      <td>110</td>\n",
       "      <td>3</td>\n",
       "      <td>4</td>\n",
       "      <td>7</td>\n",
       "    </tr>\n",
       "    <tr>\n",
       "      <th>8</th>\n",
       "      <td>1</td>\n",
       "      <td>0</td>\n",
       "      <td>17</td>\n",
       "      <td>0</td>\n",
       "      <td>6</td>\n",
       "      <td>0</td>\n",
       "      <td>2</td>\n",
       "      <td>0.44</td>\n",
       "      <td>0.4394</td>\n",
       "      <td>0.764819</td>\n",
       "      <td>0.82</td>\n",
       "      <td>15</td>\n",
       "      <td>52</td>\n",
       "      <td>67</td>\n",
       "      <td>4</td>\n",
       "      <td>4</td>\n",
       "      <td>7</td>\n",
       "    </tr>\n",
       "    <tr>\n",
       "      <th>9</th>\n",
       "      <td>1</td>\n",
       "      <td>0</td>\n",
       "      <td>21</td>\n",
       "      <td>0</td>\n",
       "      <td>6</td>\n",
       "      <td>0</td>\n",
       "      <td>2</td>\n",
       "      <td>0.40</td>\n",
       "      <td>0.4091</td>\n",
       "      <td>0.751657</td>\n",
       "      <td>0.87</td>\n",
       "      <td>3</td>\n",
       "      <td>31</td>\n",
       "      <td>34</td>\n",
       "      <td>4</td>\n",
       "      <td>4</td>\n",
       "      <td>7</td>\n",
       "    </tr>\n",
       "  </tbody>\n",
       "</table>\n",
       "</div>"
      ],
      "text/plain": [
       "   time of year  Year  Hour  Day off  Weekday  Workingday  Weather  Temp  \\\n",
       "0             1     0     0        0        6           0        1  0.24   \n",
       "1             1     0     1        0        6           0        1  0.22   \n",
       "2             1     0     3        0        6           0        1  0.24   \n",
       "3             1     0     4        0        6           0        1  0.24   \n",
       "4             1     0     6        0        6           0        1  0.22   \n",
       "5             1     0     7        0        6           0        1  0.20   \n",
       "6             1     0    11        0        6           0        1  0.36   \n",
       "7             1     0    15        0        6           0        2  0.44   \n",
       "8             1     0    17        0        6           0        2  0.44   \n",
       "9             1     0    21        0        6           0        2  0.40   \n",
       "\n",
       "   Feel_Temp   Humidity  Fog Density  Foreigners  Local  Total Visitors  slot  \\\n",
       "0     0.2879   0.757754         0.81           3     13              16     1   \n",
       "1     0.2727   0.725487         0.80           8     32              40     1   \n",
       "2     0.2879   0.750239         0.75           3     10              13     1   \n",
       "3     0.2879   0.786713         0.75           0      1               1     1   \n",
       "4     0.2727   0.788794         0.80           2      0               2     1   \n",
       "5     0.2576   0.784772         0.86           1      2               3     2   \n",
       "6     0.3333   0.760312         0.81          26     30              56     3   \n",
       "7     0.4394   0.770238         0.77          40     70             110     3   \n",
       "8     0.4394   0.764819         0.82          15     52              67     4   \n",
       "9     0.4091   0.751657         0.87           3     31              34     4   \n",
       "\n",
       "   temp_cat  Humidity_cat  \n",
       "0         2             7  \n",
       "1         2             7  \n",
       "2         2             7  \n",
       "3         2             7  \n",
       "4         2             7  \n",
       "5         2             7  \n",
       "6         3             7  \n",
       "7         4             7  \n",
       "8         4             7  \n",
       "9         4             7  "
      ]
     },
     "execution_count": 166,
     "metadata": {},
     "output_type": "execute_result"
    }
   ],
   "source": [
    "main_train['temp_cat']=0\n",
    "main_train['Humidity_cat']=0\n",
    "'''def to_cat(x,y,z):\n",
    "    c=0   \n",
    "    for i in xrange(10):\n",
    "        x.loc[(y>i/10)&(y<i/10), z]=i\n",
    "'''\n",
    "def to_cat(x, y):\n",
    "    c=0   \n",
    "    for i in xrange(-1,25):\n",
    "        main_train.loc[(x>float(i)/float(10))&(x<float(i+1)/float(10)), y]=i\n",
    "\n",
    "to_cat(main_train['Feel_Temp'], 'temp_cat')\n",
    "to_cat(main_train[' Humidity'], 'Humidity_cat')\n",
    "main_train.head(10)"
   ]
  },
  {
   "cell_type": "code",
   "execution_count": 176,
   "metadata": {
    "collapsed": false
   },
   "outputs": [],
   "source": [
    "from sklearn.cross_validation import train_test_split\n",
    "\n",
    "dic=list(main_train.columns)\n",
    "#stop_words=['Serial', 'Temp', ' Humidity', 'Feel_Temp', 'Foreigners', 'Local', 'Total Visitors']\n",
    "stop_words=['Serial', 'temp_cat', 'Humidity_cat','Total Visitors', 'Foreigners', 'Local','Total Visitors','slot']\n",
    "\n",
    "final_par=[ word for word in dic if word not in stop_words]\n",
    "\n",
    "X_train,X_test, Y_train, Y_test=train_test_split(main_train[final_par], main_train['Total Visitors'], test_size=0.25, random_state=42)"
   ]
  },
  {
   "cell_type": "code",
   "execution_count": 168,
   "metadata": {
    "collapsed": false
   },
   "outputs": [],
   "source": [
    "from sklearn.metrics import accuracy_score\n",
    "import math\n",
    "def costcal(prediction, Y_test, name):\n",
    "    cost=(prediction-Y_test)\n",
    "    cost.as_matrix()\n",
    "    cost=sum(cost*cost) \n",
    "    cost=np.sqrt(cost)\n",
    "    print cost\n",
    "    \n",
    "    print ('for {0} it is {1}'.format(name, cost))\n",
    "    "
   ]
  },
  {
   "cell_type": "code",
   "execution_count": 188,
   "metadata": {
    "collapsed": false
   },
   "outputs": [
    {
     "name": "stdout",
     "output_type": "stream",
     "text": [
      "1595.00942003\n",
      "for RandomForest it is 1595.00942003\n"
     ]
    }
   ],
   "source": [
    "from sklearn.ensemble import RandomForestRegressor\n",
    "\n",
    "model=RandomForestRegressor(n_estimators=10).fit(X_train, Y_train)\n",
    "prediction=model.predict(X_test)\n",
    "(prediction)\n",
    "\n",
    "costcal(prediction, Y_test, 'RandomForest')"
   ]
  },
  {
   "cell_type": "code",
   "execution_count": 182,
   "metadata": {
    "collapsed": false
   },
   "outputs": [
    {
     "name": "stdout",
     "output_type": "stream",
     "text": [
      "1990.79707655\n",
      "for DecisionTree it is 1990.79707655\n"
     ]
    }
   ],
   "source": [
    "from sklearn import tree\n",
    "model=tree.DecisionTreeRegressor().fit(X_train, Y_train)\n",
    "prediction=model.predict(X_test)\n",
    "costcal(prediction, Y_test, 'DecisionTree')"
   ]
  },
  {
   "cell_type": "code",
   "execution_count": 183,
   "metadata": {
    "collapsed": false
   },
   "outputs": [
    {
     "name": "stdout",
     "output_type": "stream",
     "text": [
      "3896.57987975\n",
      "for SVM it is 3896.57987975\n"
     ]
    }
   ],
   "source": [
    "from sklearn import svm\n",
    "model=svm.SVR().fit(X_train, Y_train)\n",
    "prediction=model.predict(X_test)\n",
    "costcal(prediction, Y_test, 'SVM')"
   ]
  },
  {
   "cell_type": "code",
   "execution_count": 187,
   "metadata": {
    "collapsed": false
   },
   "outputs": [
    {
     "name": "stdout",
     "output_type": "stream",
     "text": [
      "2070.09422044\n",
      "for GradientBoostRigressor it is 2070.09422044\n"
     ]
    }
   ],
   "source": [
    "from sklearn.ensemble import GradientBoostingRegressor\n",
    "model= GradientBoostingRegressor().fit(X_train, Y_train)\n",
    "prediction=model.predict(X_test)\n",
    "costcal(prediction, Y_test, 'GradientBoostRigressor')"
   ]
  },
  {
   "cell_type": "code",
   "execution_count": 189,
   "metadata": {
    "collapsed": false
   },
   "outputs": [
    {
     "name": "stdout",
     "output_type": "stream",
     "text": [
      "1549.36677711\n",
      "for RandomForest it is 1549.36677711\n",
      "38497.1\n"
     ]
    }
   ],
   "source": [
    "from sklearn.ensemble import RandomForestRegressor\n",
    "\n",
    "model=RandomForestRegressor().fit(X_train, Y_train)\n",
    "prediction=model.predict(X_test)\n",
    "(prediction)\n",
    "\n",
    "costcal(prediction, Y_test, 'RandomForest')\n",
    "print(sum(abs(prediction-Y_test)))"
   ]
  },
  {
   "cell_type": "code",
   "execution_count": 175,
   "metadata": {
    "collapsed": false
   },
   "outputs": [
    {
     "name": "stdout",
     "output_type": "stream",
     "text": [
      "Index([u'time of year', u'Year', u'Hour', u'Day off', u'Weekday',\n",
      "       u'Workingday', u'Weather', u'Temp', u'Feel_Temp', u' Humidity',\n",
      "       u'Fog Density', u'slot'],\n",
      "      dtype='object')\n"
     ]
    },
    {
     "data": {
      "text/plain": [
       "Index([u'time of year', u'Year', u'Hour', u'Day off', u'Weekday',\n",
       "       u'Workingday', u'Weather', u'Temp', u'Feel_Temp', u' Humidity',\n",
       "       u'Fog Density'],\n",
       "      dtype='object')"
      ]
     },
     "execution_count": 175,
     "metadata": {},
     "output_type": "execute_result"
    }
   ],
   "source": [
    "print X_train.columns\n",
    "test.columns"
   ]
  },
  {
   "cell_type": "code",
   "execution_count": 191,
   "metadata": {
    "collapsed": false
   },
   "outputs": [],
   "source": [
    "# predicting the test data given \n",
    "\n",
    "from sklearn.ensemble import RandomForestRegressor\n",
    "model= RandomForestRegressor().fit(main_train[final_par],main_train['Total Visitors'])\n",
    "prediction=model.predict(test)\n",
    "prediction\n",
    "np.savetxt('results.csv', \n",
    "           np.c_[range(1,len(test)+1),prediction], \n",
    "           delimiter=',', \n",
    "           header = 'Serial,Total Visitors', \n",
    "           comments = '', \n",
    "           fmt='%d')"
   ]
  },
  {
   "cell_type": "code",
   "execution_count": null,
   "metadata": {
    "collapsed": true
   },
   "outputs": [],
   "source": []
  }
 ],
 "metadata": {
  "kernelspec": {
   "display_name": "Python 2",
   "language": "python",
   "name": "python2"
  },
  "language_info": {
   "codemirror_mode": {
    "name": "ipython",
    "version": 2
   },
   "file_extension": ".py",
   "mimetype": "text/x-python",
   "name": "python",
   "nbconvert_exporter": "python",
   "pygments_lexer": "ipython2",
   "version": "2.7.12"
  }
 },
 "nbformat": 4,
 "nbformat_minor": 2
}
