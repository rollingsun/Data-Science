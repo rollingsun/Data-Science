{
 "cells": [
  {
   "cell_type": "code",
   "execution_count": 8,
   "metadata": {
    "collapsed": true
   },
   "outputs": [],
   "source": [
    "import pandas as pd"
   ]
  },
  {
   "cell_type": "code",
   "execution_count": 9,
   "metadata": {
    "collapsed": true
   },
   "outputs": [],
   "source": [
    "airq=pd.read_excel('AirQuality.xlsx')"
   ]
  },
  {
   "cell_type": "code",
   "execution_count": 10,
   "metadata": {
    "collapsed": false
   },
   "outputs": [
    {
     "name": "stdout",
     "output_type": "stream",
     "text": [
      "        Date      Time       O3   CO       C6H6      SO2    NO2  NOx(GT)   Pb  \\\n",
      "0 2007-03-10  18:00:00  1267.50  150  11.881723  1056.25  113.0    166.0  2.6   \n",
      "1 2007-03-10  19:00:00   972.25  112   9.397165  1173.75   92.0    103.0  2.0   \n",
      "2 2007-03-10  20:00:00  1074.00   88   8.997817  1140.00  114.0    131.0  2.2   \n",
      "3 2007-03-10  21:00:00  1203.25   80   9.228796  1092.00  122.0    172.0  2.2   \n",
      "4 2007-03-10  22:00:00  1110.00   51   6.518224  1205.00  116.0    131.0  1.6   \n",
      "\n",
      "   PM(2.5)   PM(10)         RH        AH      T  \n",
      "0  1692.00  1045.50  48.875001  0.757754  13.60  \n",
      "1  1558.75   954.75  47.700000  0.725487  13.30  \n",
      "2  1554.50   939.25  53.975000  0.750239  11.90  \n",
      "3  1583.75   948.25  60.000000  0.786713  11.00  \n",
      "4  1490.00   835.50  59.575001  0.788794  11.15  \n",
      "(9357, 14)\n"
     ]
    },
    {
     "data": {
      "text/plain": [
       "['Date',\n",
       " 'Time',\n",
       " 'O3',\n",
       " 'CO',\n",
       " 'C6H6',\n",
       " 'SO2',\n",
       " 'NO2',\n",
       " 'NOx(GT)',\n",
       " 'Pb',\n",
       " 'PM(2.5)',\n",
       " 'PM(10)',\n",
       " 'RH',\n",
       " 'AH']"
      ]
     },
     "execution_count": 10,
     "metadata": {},
     "output_type": "execute_result"
    }
   ],
   "source": [
    "print airq.head()\n",
    "print airq.shape\n",
    "airq.columns\n",
    "\n",
    "var=['Date', 'Time', 'O3', 'CO', 'C6H6', 'SO2', 'NO2', 'NOx(GT)',\n",
    "       'Pb', 'PM(2.5)', 'PM(10)', 'RH', 'AH', 'T']\n",
    "\n",
    "input_var=[word for word in var if word is not 'T']\n",
    "input_var"
   ]
  },
  {
   "cell_type": "code",
   "execution_count": 55,
   "metadata": {
    "collapsed": false
   },
   "outputs": [
    {
     "name": "stdout",
     "output_type": "stream",
     "text": [
      "<class 'pandas.core.frame.DataFrame'>\n",
      "RangeIndex: 9357 entries, 0 to 9356\n",
      "Data columns (total 14 columns):\n",
      "Date       9357 non-null datetime64[ns]\n",
      "Time       9357 non-null int64\n",
      "O3         9357 non-null float64\n",
      "CO         9357 non-null int64\n",
      "C6H6       9357 non-null float64\n",
      "SO2        9357 non-null float64\n",
      "NO2        9357 non-null float64\n",
      "NOx(GT)    9357 non-null float64\n",
      "Pb         9357 non-null float64\n",
      "PM(2.5)    9357 non-null float64\n",
      "PM(10)     9357 non-null float64\n",
      "RH         9357 non-null float64\n",
      "AH         9357 non-null float64\n",
      "T          9357 non-null float64\n",
      "dtypes: datetime64[ns](1), float64(11), int64(2)\n",
      "memory usage: 1023.5 KB\n"
     ]
    },
    {
     "ename": "AttributeError",
     "evalue": "'Series' object has no attribute 'info'",
     "output_type": "error",
     "traceback": [
      "\u001b[0;31m---------------------------------------------------------------------------\u001b[0m",
      "\u001b[0;31mAttributeError\u001b[0m                            Traceback (most recent call last)",
      "\u001b[0;32m<ipython-input-55-8687f399dbfa>\u001b[0m in \u001b[0;36m<module>\u001b[0;34m()\u001b[0m\n\u001b[1;32m      3\u001b[0m \u001b[0mairq\u001b[0m\u001b[0;34m[\u001b[0m\u001b[0;34m'Time'\u001b[0m\u001b[0;34m]\u001b[0m\u001b[0;34m.\u001b[0m\u001b[0mastype\u001b[0m\u001b[0;34m(\u001b[0m\u001b[0mstr\u001b[0m\u001b[0;34m)\u001b[0m\u001b[0;34m\u001b[0m\u001b[0m\n\u001b[1;32m      4\u001b[0m \u001b[0;31m#pd.DataFrame()\u001b[0m\u001b[0;34m\u001b[0m\u001b[0;34m\u001b[0m\u001b[0m\n\u001b[0;32m----> 5\u001b[0;31m \u001b[0;32mprint\u001b[0m \u001b[0mairq\u001b[0m\u001b[0;34m.\u001b[0m\u001b[0mTime\u001b[0m\u001b[0;34m.\u001b[0m\u001b[0minfo\u001b[0m\u001b[0;34m(\u001b[0m\u001b[0;34m)\u001b[0m\u001b[0;34m\u001b[0m\u001b[0m\n\u001b[0m\u001b[1;32m      6\u001b[0m \u001b[0;34m\u001b[0m\u001b[0m\n\u001b[1;32m      7\u001b[0m \u001b[0;32mdef\u001b[0m \u001b[0mtoint\u001b[0m\u001b[0;34m(\u001b[0m\u001b[0mx\u001b[0m\u001b[0;34m)\u001b[0m\u001b[0;34m:\u001b[0m\u001b[0;34m\u001b[0m\u001b[0m\n",
      "\u001b[0;32m/home/saurabh/.local/lib/python2.7/site-packages/pandas/core/generic.pyc\u001b[0m in \u001b[0;36m__getattr__\u001b[0;34m(self, name)\u001b[0m\n\u001b[1;32m   2742\u001b[0m             \u001b[0;32mif\u001b[0m \u001b[0mname\u001b[0m \u001b[0;32min\u001b[0m \u001b[0mself\u001b[0m\u001b[0;34m.\u001b[0m\u001b[0m_info_axis\u001b[0m\u001b[0;34m:\u001b[0m\u001b[0;34m\u001b[0m\u001b[0m\n\u001b[1;32m   2743\u001b[0m                 \u001b[0;32mreturn\u001b[0m \u001b[0mself\u001b[0m\u001b[0;34m[\u001b[0m\u001b[0mname\u001b[0m\u001b[0;34m]\u001b[0m\u001b[0;34m\u001b[0m\u001b[0m\n\u001b[0;32m-> 2744\u001b[0;31m             \u001b[0;32mreturn\u001b[0m \u001b[0mobject\u001b[0m\u001b[0;34m.\u001b[0m\u001b[0m__getattribute__\u001b[0m\u001b[0;34m(\u001b[0m\u001b[0mself\u001b[0m\u001b[0;34m,\u001b[0m \u001b[0mname\u001b[0m\u001b[0;34m)\u001b[0m\u001b[0;34m\u001b[0m\u001b[0m\n\u001b[0m\u001b[1;32m   2745\u001b[0m \u001b[0;34m\u001b[0m\u001b[0m\n\u001b[1;32m   2746\u001b[0m     \u001b[0;32mdef\u001b[0m \u001b[0m__setattr__\u001b[0m\u001b[0;34m(\u001b[0m\u001b[0mself\u001b[0m\u001b[0;34m,\u001b[0m \u001b[0mname\u001b[0m\u001b[0;34m,\u001b[0m \u001b[0mvalue\u001b[0m\u001b[0;34m)\u001b[0m\u001b[0;34m:\u001b[0m\u001b[0;34m\u001b[0m\u001b[0m\n",
      "\u001b[0;31mAttributeError\u001b[0m: 'Series' object has no attribute 'info'"
     ]
    }
   ],
   "source": [
    "import datetime\n",
    "airq.info()\n",
    "airq['Time'].astype(str)\n",
    "#pd.DataFrame()\n",
    "Temp=airq['Time']\n",
    "pd.DataFrame(Temp)\n",
    "\n",
    "def toint(x):\n",
    "    fmt='%H'\n",
    "    x=int(x.strftime(fmt))\n",
    "    return x\n",
    "Temp=Temp.apply(toint)\n",
    "print Temp.head()\n",
    "\n",
    "#for i in xrange(0,Temp['Time'].shape().[0])\n",
    "#Temp['Time'].iloc[i]"
   ]
  },
  {
   "cell_type": "code",
   "execution_count": null,
   "metadata": {
    "collapsed": false
   },
   "outputs": [],
   "source": [
    "from sklearn.linear_model import LinearRegression\n",
    "X=airq[input_var]\n",
    "y=airq['T']\n",
    "LR=LinearRegression()\n",
    "model=LR.fit(X,y)"
   ]
  },
  {
   "cell_type": "code",
   "execution_count": null,
   "metadata": {
    "collapsed": true
   },
   "outputs": [],
   "source": []
  },
  {
   "cell_type": "code",
   "execution_count": null,
   "metadata": {
    "collapsed": true
   },
   "outputs": [],
   "source": []
  }
 ],
 "metadata": {
  "kernelspec": {
   "display_name": "Python 2",
   "language": "python",
   "name": "python2"
  },
  "language_info": {
   "codemirror_mode": {
    "name": "ipython",
    "version": 2
   },
   "file_extension": ".py",
   "mimetype": "text/x-python",
   "name": "python",
   "nbconvert_exporter": "python",
   "pygments_lexer": "ipython2",
   "version": "2.7.12"
  }
 },
 "nbformat": 4,
 "nbformat_minor": 2
}
