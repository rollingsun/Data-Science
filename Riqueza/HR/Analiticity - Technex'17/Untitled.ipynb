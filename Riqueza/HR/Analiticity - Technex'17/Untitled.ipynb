{
 "cells": [
  {
   "cell_type": "code",
   "execution_count": null,
   "metadata": {
    "collapsed": true
   },
   "outputs": [],
   "source": [
    "import pandas as pd"
   ]
  },
  {
   "cell_type": "code",
   "execution_count": null,
   "metadata": {
    "collapsed": true
   },
   "outputs": [],
   "source": [
    "airq=pd.read_excel('AirQuality.xlsx')"
   ]
  },
  {
   "cell_type": "code",
   "execution_count": null,
   "metadata": {
    "collapsed": false
   },
   "outputs": [],
   "source": [
    "print airq.head()\n",
    "print airq.shape\n",
    "airq.columns\n",
    "\n",
    "var=['Date', 'Time', 'O3', 'CO', 'C6H6', 'SO2', 'NO2', 'NOx(GT)',\n",
    "       'Pb', 'PM(2.5)', 'PM(10)', 'RH', 'AH', 'T']\n",
    "\n",
    "input_var=[word for word in var if word is not 'T']\n",
    "input_var"
   ]
  },
  {
   "cell_type": "code",
   "execution_count": null,
   "metadata": {
    "collapsed": false
   },
   "outputs": [],
   "source": [
    "import datetime\n",
    "airq.info()\n",
    "airq['Time'].astype(str)\n",
    "#pd.DataFrame()\n",
    "Temp=airq['Time']\n",
    "pd.DataFrame(Temp)\n",
    "\n",
    "def toint(x):\n",
    "    fmt='%H'\n",
    "    x=int(x.strftime(fmt))\n",
    "    return x\n",
    "Temp=Temp.apply(toint)\n",
    "\n",
    "airq['Time']=Temp\n",
    "\n",
    "#for i in xrange(0,Temp['Time'].shape().[0])\n",
    "#Temp['Time'].iloc[i]"
   ]
  },
  {
   "cell_type": "code",
   "execution_count": null,
   "metadata": {
    "collapsed": false
   },
   "outputs": [],
   "source": [
    "Temp=airq['Date']\n",
    "pd.DataFrame(Temp)\n",
    "\n",
    "def toint(x):\n",
    "    fmt='%y%m%d'\n",
    "    x=int(x.strftime(fmt))\n",
    "    return x\n",
    "Temp=Temp.apply(toint)\n",
    "\n",
    "airq['Date']=Temp\n"
   ]
  },
  {
   "cell_type": "code",
   "execution_count": null,
   "metadata": {
    "collapsed": false
   },
   "outputs": [],
   "source": [
    "airq.head()"
   ]
  },
  {
   "cell_type": "code",
   "execution_count": null,
   "metadata": {
    "collapsed": false
   },
   "outputs": [],
   "source": [
    "from sklearn.linear_model import LinearRegression\n",
    "X=airq[input_var]\n",
    "y=airq['T']\n",
    "LR=LinearRegression()\n",
    "model=LR.fit(X,y)\n",
    "coeff=model.coef_\n",
    "print sum(coeff)\n",
    "coeff=[i for i in coeff if i>0]\n",
    "sum(coeff)"
   ]
  },
  {
   "cell_type": "code",
   "execution_count": null,
   "metadata": {
    "collapsed": true
   },
   "outputs": [],
   "source": []
  },
  {
   "cell_type": "code",
   "execution_count": null,
   "metadata": {
    "collapsed": true
   },
   "outputs": [],
   "source": []
  },
  {
   "cell_type": "code",
   "execution_count": null,
   "metadata": {
    "collapsed": true
   },
   "outputs": [],
   "source": []
  }
 ],
 "metadata": {
  "kernelspec": {
   "display_name": "Python 2",
   "language": "python",
   "name": "python2"
  },
  "language_info": {
   "codemirror_mode": {
    "name": "ipython",
    "version": 2
   },
   "file_extension": ".py",
   "mimetype": "text/x-python",
   "name": "python",
   "nbconvert_exporter": "python",
   "pygments_lexer": "ipython2",
   "version": "2.7.12"
  }
 },
 "nbformat": 4,
 "nbformat_minor": 2
}
