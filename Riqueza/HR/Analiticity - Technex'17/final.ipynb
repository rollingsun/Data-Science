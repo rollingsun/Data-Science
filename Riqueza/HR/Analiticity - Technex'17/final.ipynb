{
 "cells": [
  {
   "cell_type": "code",
   "execution_count": 1,
   "metadata": {
    "collapsed": true
   },
   "outputs": [],
   "source": [
    "import pandas as pd\n",
    "import numpy as np "
   ]
  },
  {
   "cell_type": "code",
   "execution_count": 38,
   "metadata": {
    "collapsed": true
   },
   "outputs": [],
   "source": [
    "import matplotlib.pyplot as plt\n",
    "get_ipython().magic(u'matplotlib inline')\n",
    "import seaborn as sb"
   ]
  },
  {
   "cell_type": "code",
   "execution_count": 2,
   "metadata": {
    "collapsed": true
   },
   "outputs": [],
   "source": [
    "data=pd.read_excel('Training_Election_Extravaganza.xlsx')"
   ]
  },
  {
   "cell_type": "code",
   "execution_count": 3,
   "metadata": {
    "collapsed": false
   },
   "outputs": [
    {
     "data": {
      "text/html": [
       "<div>\n",
       "<table border=\"1\" class=\"dataframe\">\n",
       "  <thead>\n",
       "    <tr style=\"text-align: right;\">\n",
       "      <th></th>\n",
       "      <th>Sr. no</th>\n",
       "      <th>F1</th>\n",
       "      <th>F2</th>\n",
       "      <th>F3</th>\n",
       "      <th>F4</th>\n",
       "      <th>F5</th>\n",
       "      <th>F6</th>\n",
       "      <th>F7</th>\n",
       "      <th>F8</th>\n",
       "      <th>F9</th>\n",
       "      <th>F10</th>\n",
       "      <th>F11</th>\n",
       "      <th>F12</th>\n",
       "      <th>F13</th>\n",
       "      <th>F14</th>\n",
       "      <th>F15</th>\n",
       "      <th>F16</th>\n",
       "      <th>Total Expenditure</th>\n",
       "    </tr>\n",
       "  </thead>\n",
       "  <tbody>\n",
       "    <tr>\n",
       "      <th>0</th>\n",
       "      <td>1</td>\n",
       "      <td>10911</td>\n",
       "      <td>0.514893</td>\n",
       "      <td>0.356704</td>\n",
       "      <td>0.001008</td>\n",
       "      <td>0.002834</td>\n",
       "      <td>0.968472</td>\n",
       "      <td>0.022546</td>\n",
       "      <td>0.971988</td>\n",
       "      <td>0.000675</td>\n",
       "      <td>0.003375</td>\n",
       "      <td>0.028843</td>\n",
       "      <td>0.360445</td>\n",
       "      <td>0.916301</td>\n",
       "      <td>0.234677</td>\n",
       "      <td>0.225908</td>\n",
       "      <td>0.000000</td>\n",
       "      <td>0.333088</td>\n",
       "    </tr>\n",
       "    <tr>\n",
       "      <th>1</th>\n",
       "      <td>2</td>\n",
       "      <td>261</td>\n",
       "      <td>0.475096</td>\n",
       "      <td>0.000000</td>\n",
       "      <td>0.287356</td>\n",
       "      <td>0.094891</td>\n",
       "      <td>0.865900</td>\n",
       "      <td>0.000000</td>\n",
       "      <td>0.745902</td>\n",
       "      <td>0.000000</td>\n",
       "      <td>0.032787</td>\n",
       "      <td>0.826950</td>\n",
       "      <td>0.000000</td>\n",
       "      <td>1.000000</td>\n",
       "      <td>0.334752</td>\n",
       "      <td>0.000000</td>\n",
       "      <td>0.318182</td>\n",
       "      <td>2.029518</td>\n",
       "    </tr>\n",
       "    <tr>\n",
       "      <th>2</th>\n",
       "      <td>3</td>\n",
       "      <td>1516116</td>\n",
       "      <td>0.526469</td>\n",
       "      <td>0.089983</td>\n",
       "      <td>0.145712</td>\n",
       "      <td>0.126456</td>\n",
       "      <td>0.772025</td>\n",
       "      <td>0.115350</td>\n",
       "      <td>0.711153</td>\n",
       "      <td>0.003749</td>\n",
       "      <td>0.027179</td>\n",
       "      <td>0.144895</td>\n",
       "      <td>0.059606</td>\n",
       "      <td>0.977320</td>\n",
       "      <td>0.304536</td>\n",
       "      <td>0.143772</td>\n",
       "      <td>0.781513</td>\n",
       "      <td>1.477564</td>\n",
       "    </tr>\n",
       "    <tr>\n",
       "      <th>3</th>\n",
       "      <td>4</td>\n",
       "      <td>15527</td>\n",
       "      <td>0.503832</td>\n",
       "      <td>0.020674</td>\n",
       "      <td>0.028144</td>\n",
       "      <td>0.023624</td>\n",
       "      <td>0.940684</td>\n",
       "      <td>0.001674</td>\n",
       "      <td>0.861327</td>\n",
       "      <td>0.003786</td>\n",
       "      <td>0.030285</td>\n",
       "      <td>0.064666</td>\n",
       "      <td>0.019327</td>\n",
       "      <td>0.966726</td>\n",
       "      <td>0.109579</td>\n",
       "      <td>0.122449</td>\n",
       "      <td>0.344978</td>\n",
       "      <td>1.916204</td>\n",
       "    </tr>\n",
       "    <tr>\n",
       "      <th>4</th>\n",
       "      <td>5</td>\n",
       "      <td>13159</td>\n",
       "      <td>0.487043</td>\n",
       "      <td>0.016871</td>\n",
       "      <td>0.097272</td>\n",
       "      <td>0.065037</td>\n",
       "      <td>0.907668</td>\n",
       "      <td>0.000000</td>\n",
       "      <td>0.809261</td>\n",
       "      <td>0.004248</td>\n",
       "      <td>0.053738</td>\n",
       "      <td>0.037416</td>\n",
       "      <td>0.016780</td>\n",
       "      <td>0.936916</td>\n",
       "      <td>0.158454</td>\n",
       "      <td>0.106176</td>\n",
       "      <td>0.200000</td>\n",
       "      <td>1.111671</td>\n",
       "    </tr>\n",
       "    <tr>\n",
       "      <th>5</th>\n",
       "      <td>6</td>\n",
       "      <td>1632</td>\n",
       "      <td>0.486111</td>\n",
       "      <td>0.000000</td>\n",
       "      <td>0.175926</td>\n",
       "      <td>0.103604</td>\n",
       "      <td>0.877315</td>\n",
       "      <td>0.000000</td>\n",
       "      <td>0.703488</td>\n",
       "      <td>0.000000</td>\n",
       "      <td>0.011628</td>\n",
       "      <td>0.028249</td>\n",
       "      <td>0.000000</td>\n",
       "      <td>0.994186</td>\n",
       "      <td>0.186441</td>\n",
       "      <td>0.117647</td>\n",
       "      <td>0.000000</td>\n",
       "      <td>1.471898</td>\n",
       "    </tr>\n",
       "    <tr>\n",
       "      <th>6</th>\n",
       "      <td>7</td>\n",
       "      <td>9895</td>\n",
       "      <td>0.479838</td>\n",
       "      <td>0.001314</td>\n",
       "      <td>0.136837</td>\n",
       "      <td>0.093647</td>\n",
       "      <td>0.874785</td>\n",
       "      <td>0.000000</td>\n",
       "      <td>0.724974</td>\n",
       "      <td>0.002298</td>\n",
       "      <td>0.035240</td>\n",
       "      <td>0.029732</td>\n",
       "      <td>0.001022</td>\n",
       "      <td>0.994127</td>\n",
       "      <td>0.273043</td>\n",
       "      <td>0.031880</td>\n",
       "      <td>0.208333</td>\n",
       "      <td>1.802890</td>\n",
       "    </tr>\n",
       "    <tr>\n",
       "      <th>7</th>\n",
       "      <td>8</td>\n",
       "      <td>15791</td>\n",
       "      <td>0.517763</td>\n",
       "      <td>0.003863</td>\n",
       "      <td>0.117535</td>\n",
       "      <td>0.084439</td>\n",
       "      <td>0.891394</td>\n",
       "      <td>0.021215</td>\n",
       "      <td>0.795277</td>\n",
       "      <td>0.005849</td>\n",
       "      <td>0.040078</td>\n",
       "      <td>0.030863</td>\n",
       "      <td>0.003033</td>\n",
       "      <td>0.542244</td>\n",
       "      <td>0.438379</td>\n",
       "      <td>0.277863</td>\n",
       "      <td>0.470588</td>\n",
       "      <td>0.624419</td>\n",
       "    </tr>\n",
       "    <tr>\n",
       "      <th>8</th>\n",
       "      <td>9</td>\n",
       "      <td>1275</td>\n",
       "      <td>0.503529</td>\n",
       "      <td>0.000000</td>\n",
       "      <td>0.126275</td>\n",
       "      <td>0.096366</td>\n",
       "      <td>0.894118</td>\n",
       "      <td>0.000000</td>\n",
       "      <td>0.763043</td>\n",
       "      <td>0.008696</td>\n",
       "      <td>0.030435</td>\n",
       "      <td>0.029536</td>\n",
       "      <td>0.000000</td>\n",
       "      <td>0.991304</td>\n",
       "      <td>0.177215</td>\n",
       "      <td>0.019418</td>\n",
       "      <td>0.250000</td>\n",
       "      <td>1.780227</td>\n",
       "    </tr>\n",
       "    <tr>\n",
       "      <th>9</th>\n",
       "      <td>10</td>\n",
       "      <td>1825</td>\n",
       "      <td>0.472877</td>\n",
       "      <td>0.007671</td>\n",
       "      <td>0.179178</td>\n",
       "      <td>0.114345</td>\n",
       "      <td>0.779726</td>\n",
       "      <td>0.071781</td>\n",
       "      <td>0.688060</td>\n",
       "      <td>0.002985</td>\n",
       "      <td>0.065672</td>\n",
       "      <td>0.072022</td>\n",
       "      <td>0.007463</td>\n",
       "      <td>0.917910</td>\n",
       "      <td>0.378116</td>\n",
       "      <td>0.098305</td>\n",
       "      <td>0.222222</td>\n",
       "      <td>6.754731</td>\n",
       "    </tr>\n",
       "  </tbody>\n",
       "</table>\n",
       "</div>"
      ],
      "text/plain": [
       "   Sr. no       F1        F2        F3        F4        F5        F6  \\\n",
       "0       1    10911  0.514893  0.356704  0.001008  0.002834  0.968472   \n",
       "1       2      261  0.475096  0.000000  0.287356  0.094891  0.865900   \n",
       "2       3  1516116  0.526469  0.089983  0.145712  0.126456  0.772025   \n",
       "3       4    15527  0.503832  0.020674  0.028144  0.023624  0.940684   \n",
       "4       5    13159  0.487043  0.016871  0.097272  0.065037  0.907668   \n",
       "5       6     1632  0.486111  0.000000  0.175926  0.103604  0.877315   \n",
       "6       7     9895  0.479838  0.001314  0.136837  0.093647  0.874785   \n",
       "7       8    15791  0.517763  0.003863  0.117535  0.084439  0.891394   \n",
       "8       9     1275  0.503529  0.000000  0.126275  0.096366  0.894118   \n",
       "9      10     1825  0.472877  0.007671  0.179178  0.114345  0.779726   \n",
       "\n",
       "         F7        F8        F9       F10       F11       F12       F13  \\\n",
       "0  0.022546  0.971988  0.000675  0.003375  0.028843  0.360445  0.916301   \n",
       "1  0.000000  0.745902  0.000000  0.032787  0.826950  0.000000  1.000000   \n",
       "2  0.115350  0.711153  0.003749  0.027179  0.144895  0.059606  0.977320   \n",
       "3  0.001674  0.861327  0.003786  0.030285  0.064666  0.019327  0.966726   \n",
       "4  0.000000  0.809261  0.004248  0.053738  0.037416  0.016780  0.936916   \n",
       "5  0.000000  0.703488  0.000000  0.011628  0.028249  0.000000  0.994186   \n",
       "6  0.000000  0.724974  0.002298  0.035240  0.029732  0.001022  0.994127   \n",
       "7  0.021215  0.795277  0.005849  0.040078  0.030863  0.003033  0.542244   \n",
       "8  0.000000  0.763043  0.008696  0.030435  0.029536  0.000000  0.991304   \n",
       "9  0.071781  0.688060  0.002985  0.065672  0.072022  0.007463  0.917910   \n",
       "\n",
       "        F14       F15       F16  Total Expenditure  \n",
       "0  0.234677  0.225908  0.000000           0.333088  \n",
       "1  0.334752  0.000000  0.318182           2.029518  \n",
       "2  0.304536  0.143772  0.781513           1.477564  \n",
       "3  0.109579  0.122449  0.344978           1.916204  \n",
       "4  0.158454  0.106176  0.200000           1.111671  \n",
       "5  0.186441  0.117647  0.000000           1.471898  \n",
       "6  0.273043  0.031880  0.208333           1.802890  \n",
       "7  0.438379  0.277863  0.470588           0.624419  \n",
       "8  0.177215  0.019418  0.250000           1.780227  \n",
       "9  0.378116  0.098305  0.222222           6.754731  "
      ]
     },
     "execution_count": 3,
     "metadata": {},
     "output_type": "execute_result"
    }
   ],
   "source": [
    "data.head(10)"
   ]
  },
  {
   "cell_type": "code",
   "execution_count": 34,
   "metadata": {
    "collapsed": false
   },
   "outputs": [
    {
     "data": {
      "text/html": [
       "<div>\n",
       "<table border=\"1\" class=\"dataframe\">\n",
       "  <thead>\n",
       "    <tr style=\"text-align: right;\">\n",
       "      <th></th>\n",
       "      <th>F1</th>\n",
       "      <th>F2</th>\n",
       "      <th>F3</th>\n",
       "      <th>F4</th>\n",
       "      <th>F5</th>\n",
       "      <th>F6</th>\n",
       "      <th>F7</th>\n",
       "      <th>F8</th>\n",
       "      <th>F9</th>\n",
       "      <th>F10</th>\n",
       "      <th>F11</th>\n",
       "      <th>F12</th>\n",
       "      <th>F13</th>\n",
       "      <th>F14</th>\n",
       "      <th>F15</th>\n",
       "      <th>F16</th>\n",
       "    </tr>\n",
       "  </thead>\n",
       "  <tbody>\n",
       "    <tr>\n",
       "      <th>count</th>\n",
       "      <td>1.764900e+04</td>\n",
       "      <td>17649.000000</td>\n",
       "      <td>17649.000000</td>\n",
       "      <td>17649.000000</td>\n",
       "      <td>17649.000000</td>\n",
       "      <td>17649.000000</td>\n",
       "      <td>17649.000000</td>\n",
       "      <td>17649.000000</td>\n",
       "      <td>17649.000000</td>\n",
       "      <td>17649.000000</td>\n",
       "      <td>17649.000000</td>\n",
       "      <td>17649.000000</td>\n",
       "      <td>17649.000000</td>\n",
       "      <td>17649.000000</td>\n",
       "      <td>17649.000000</td>\n",
       "      <td>17649.000000</td>\n",
       "    </tr>\n",
       "    <tr>\n",
       "      <th>mean</th>\n",
       "      <td>1.139462e+05</td>\n",
       "      <td>0.482572</td>\n",
       "      <td>0.063780</td>\n",
       "      <td>0.163617</td>\n",
       "      <td>0.121322</td>\n",
       "      <td>0.850988</td>\n",
       "      <td>0.020655</td>\n",
       "      <td>0.716424</td>\n",
       "      <td>0.003615</td>\n",
       "      <td>0.033321</td>\n",
       "      <td>0.110117</td>\n",
       "      <td>0.057318</td>\n",
       "      <td>0.967362</td>\n",
       "      <td>0.304271</td>\n",
       "      <td>0.107323</td>\n",
       "      <td>0.490149</td>\n",
       "    </tr>\n",
       "    <tr>\n",
       "      <th>std</th>\n",
       "      <td>2.363049e+06</td>\n",
       "      <td>0.032263</td>\n",
       "      <td>0.151675</td>\n",
       "      <td>0.080186</td>\n",
       "      <td>0.056678</td>\n",
       "      <td>0.079987</td>\n",
       "      <td>0.058540</td>\n",
       "      <td>0.087488</td>\n",
       "      <td>0.005276</td>\n",
       "      <td>0.029818</td>\n",
       "      <td>0.105293</td>\n",
       "      <td>0.140846</td>\n",
       "      <td>0.098245</td>\n",
       "      <td>0.133722</td>\n",
       "      <td>0.090447</td>\n",
       "      <td>0.331585</td>\n",
       "    </tr>\n",
       "    <tr>\n",
       "      <th>min</th>\n",
       "      <td>5.000000e+00</td>\n",
       "      <td>0.125000</td>\n",
       "      <td>0.000000</td>\n",
       "      <td>0.000000</td>\n",
       "      <td>0.000000</td>\n",
       "      <td>0.054156</td>\n",
       "      <td>0.000000</td>\n",
       "      <td>0.233702</td>\n",
       "      <td>0.000000</td>\n",
       "      <td>0.000000</td>\n",
       "      <td>0.000000</td>\n",
       "      <td>0.000000</td>\n",
       "      <td>0.005464</td>\n",
       "      <td>0.000000</td>\n",
       "      <td>0.000000</td>\n",
       "      <td>0.000000</td>\n",
       "    </tr>\n",
       "    <tr>\n",
       "      <th>25%</th>\n",
       "      <td>6.750000e+02</td>\n",
       "      <td>0.464760</td>\n",
       "      <td>0.000000</td>\n",
       "      <td>0.111738</td>\n",
       "      <td>0.081151</td>\n",
       "      <td>0.819277</td>\n",
       "      <td>0.000000</td>\n",
       "      <td>0.662500</td>\n",
       "      <td>0.000000</td>\n",
       "      <td>0.016260</td>\n",
       "      <td>0.048999</td>\n",
       "      <td>0.000000</td>\n",
       "      <td>0.981526</td>\n",
       "      <td>0.221154</td>\n",
       "      <td>0.053004</td>\n",
       "      <td>0.239437</td>\n",
       "    </tr>\n",
       "    <tr>\n",
       "      <th>50%</th>\n",
       "      <td>2.161000e+03</td>\n",
       "      <td>0.480687</td>\n",
       "      <td>0.003378</td>\n",
       "      <td>0.155093</td>\n",
       "      <td>0.116788</td>\n",
       "      <td>0.863738</td>\n",
       "      <td>0.000000</td>\n",
       "      <td>0.714286</td>\n",
       "      <td>0.002578</td>\n",
       "      <td>0.027586</td>\n",
       "      <td>0.080997</td>\n",
       "      <td>0.002516</td>\n",
       "      <td>0.994152</td>\n",
       "      <td>0.299492</td>\n",
       "      <td>0.086580</td>\n",
       "      <td>0.500000</td>\n",
       "    </tr>\n",
       "    <tr>\n",
       "      <th>75%</th>\n",
       "      <td>1.290700e+04</td>\n",
       "      <td>0.496376</td>\n",
       "      <td>0.032483</td>\n",
       "      <td>0.203306</td>\n",
       "      <td>0.156642</td>\n",
       "      <td>0.900000</td>\n",
       "      <td>0.019354</td>\n",
       "      <td>0.771739</td>\n",
       "      <td>0.005019</td>\n",
       "      <td>0.042798</td>\n",
       "      <td>0.131631</td>\n",
       "      <td>0.028670</td>\n",
       "      <td>1.000000</td>\n",
       "      <td>0.374622</td>\n",
       "      <td>0.137931</td>\n",
       "      <td>0.750000</td>\n",
       "    </tr>\n",
       "    <tr>\n",
       "      <th>max</th>\n",
       "      <td>1.616167e+08</td>\n",
       "      <td>0.923077</td>\n",
       "      <td>1.000000</td>\n",
       "      <td>0.917255</td>\n",
       "      <td>0.502792</td>\n",
       "      <td>1.000000</td>\n",
       "      <td>0.943325</td>\n",
       "      <td>1.000000</td>\n",
       "      <td>0.125000</td>\n",
       "      <td>0.705736</td>\n",
       "      <td>0.960133</td>\n",
       "      <td>1.000000</td>\n",
       "      <td>1.000000</td>\n",
       "      <td>1.000000</td>\n",
       "      <td>1.000000</td>\n",
       "      <td>1.000000</td>\n",
       "    </tr>\n",
       "  </tbody>\n",
       "</table>\n",
       "</div>"
      ],
      "text/plain": [
       "                 F1            F2            F3            F4            F5  \\\n",
       "count  1.764900e+04  17649.000000  17649.000000  17649.000000  17649.000000   \n",
       "mean   1.139462e+05      0.482572      0.063780      0.163617      0.121322   \n",
       "std    2.363049e+06      0.032263      0.151675      0.080186      0.056678   \n",
       "min    5.000000e+00      0.125000      0.000000      0.000000      0.000000   \n",
       "25%    6.750000e+02      0.464760      0.000000      0.111738      0.081151   \n",
       "50%    2.161000e+03      0.480687      0.003378      0.155093      0.116788   \n",
       "75%    1.290700e+04      0.496376      0.032483      0.203306      0.156642   \n",
       "max    1.616167e+08      0.923077      1.000000      0.917255      0.502792   \n",
       "\n",
       "                 F6            F7            F8            F9           F10  \\\n",
       "count  17649.000000  17649.000000  17649.000000  17649.000000  17649.000000   \n",
       "mean       0.850988      0.020655      0.716424      0.003615      0.033321   \n",
       "std        0.079987      0.058540      0.087488      0.005276      0.029818   \n",
       "min        0.054156      0.000000      0.233702      0.000000      0.000000   \n",
       "25%        0.819277      0.000000      0.662500      0.000000      0.016260   \n",
       "50%        0.863738      0.000000      0.714286      0.002578      0.027586   \n",
       "75%        0.900000      0.019354      0.771739      0.005019      0.042798   \n",
       "max        1.000000      0.943325      1.000000      0.125000      0.705736   \n",
       "\n",
       "                F11           F12           F13           F14           F15  \\\n",
       "count  17649.000000  17649.000000  17649.000000  17649.000000  17649.000000   \n",
       "mean       0.110117      0.057318      0.967362      0.304271      0.107323   \n",
       "std        0.105293      0.140846      0.098245      0.133722      0.090447   \n",
       "min        0.000000      0.000000      0.005464      0.000000      0.000000   \n",
       "25%        0.048999      0.000000      0.981526      0.221154      0.053004   \n",
       "50%        0.080997      0.002516      0.994152      0.299492      0.086580   \n",
       "75%        0.131631      0.028670      1.000000      0.374622      0.137931   \n",
       "max        0.960133      1.000000      1.000000      1.000000      1.000000   \n",
       "\n",
       "                F16  \n",
       "count  17649.000000  \n",
       "mean       0.490149  \n",
       "std        0.331585  \n",
       "min        0.000000  \n",
       "25%        0.239437  \n",
       "50%        0.500000  \n",
       "75%        0.750000  \n",
       "max        1.000000  "
      ]
     },
     "execution_count": 34,
     "metadata": {},
     "output_type": "execute_result"
    }
   ],
   "source": [
    "test_data.describe()"
   ]
  },
  {
   "cell_type": "code",
   "execution_count": 30,
   "metadata": {
    "collapsed": true
   },
   "outputs": [],
   "source": [
    "test=pd.read_excel('Test_Election_Extravaganza.xlsx')"
   ]
  },
  {
   "cell_type": "code",
   "execution_count": 61,
   "metadata": {
    "collapsed": false
   },
   "outputs": [],
   "source": [
    "test.head(10)\n",
    "test=test.drop('Sr. no', axis=1)"
   ]
  },
  {
   "cell_type": "code",
   "execution_count": 9,
   "metadata": {
    "collapsed": false
   },
   "outputs": [
    {
     "data": {
      "text/plain": [
       "Index([u'Sr. no', u'F1', u'F2', u'F3', u'F4', u'F5', u'F6', u'F7', u'F8',\n",
       "       u'F9', u'F10', u'F11', u'F12', u'F13', u'F14', u'F15', u'F16'],\n",
       "      dtype='object')"
      ]
     },
     "execution_count": 9,
     "metadata": {},
     "output_type": "execute_result"
    }
   ],
   "source": [
    "test_data=data.drop('Total Expenditure', axis=1)\n",
    "test_data.columns"
   ]
  },
  {
   "cell_type": "code",
   "execution_count": 10,
   "metadata": {
    "collapsed": false
   },
   "outputs": [],
   "source": [
    "test_data=test_data.drop('Sr. no', axis=1)"
   ]
  },
  {
   "cell_type": "code",
   "execution_count": 49,
   "metadata": {
    "collapsed": false
   },
   "outputs": [],
   "source": [
    "from sklearn.cross_validation import train_test_split\n",
    "\n",
    "final_par=[ 'F1', 'F2', 'F3', 'F4', 'F5', 'F6', 'F7', 'F8',\n",
    "       'F9', 'F10', 'F11','F12', 'F13', 'F14', 'F15', 'F16']\n",
    "X_train,X_test, Y_train, Y_test=train_test_split(data[final_par], data['Total Expenditure'], test_size=0.25, random_state=42)"
   ]
  },
  {
   "cell_type": "code",
   "execution_count": 62,
   "metadata": {
    "collapsed": false
   },
   "outputs": [],
   "source": [
    "from sklearn.ensemble import RandomForestRegressor\n",
    "model=RandomForestRegressor(n_estimators=500, ).fit(test_data, data['Total Expenditure'])\n",
    "prediction=model.predict(test)"
   ]
  },
  {
   "cell_type": "code",
   "execution_count": 65,
   "metadata": {
    "collapsed": false
   },
   "outputs": [
    {
     "data": {
      "text/plain": [
       "array([ 1.50940632,  1.48988841,  1.18023261, ...,  1.12755343,\n",
       "        1.95116188,  3.55726459])"
      ]
     },
     "execution_count": 65,
     "metadata": {},
     "output_type": "execute_result"
    }
   ],
   "source": [
    "prediction\n"
   ]
  },
  {
   "cell_type": "code",
   "execution_count": 67,
   "metadata": {
    "collapsed": true
   },
   "outputs": [],
   "source": [
    "np.savetxt('results.csv', \n",
    "           np.c_[prediction], \n",
    "           delimiter=',', \n",
    "           header = 'Total Expenditure', \n",
    "           comments = '', \n",
    "           fmt='%f')"
   ]
  },
  {
   "cell_type": "code",
   "execution_count": 57,
   "metadata": {
    "collapsed": false
   },
   "outputs": [
    {
     "data": {
      "text/plain": [
       "0.81372365047017126"
      ]
     },
     "execution_count": 57,
     "metadata": {},
     "output_type": "execute_result"
    }
   ],
   "source": [
    "from sklearn.metrics import mean_absolute_error\n",
    "mean_absolute_error(Y_test, prediction)"
   ]
  },
  {
   "cell_type": "code",
   "execution_count": 58,
   "metadata": {
    "collapsed": false
   },
   "outputs": [
    {
     "data": {
      "text/plain": [
       "0.52272414562856517"
      ]
     },
     "execution_count": 58,
     "metadata": {},
     "output_type": "execute_result"
    }
   ],
   "source": [
    "from sklearn.metrics import explained_variance_score\n",
    "explained_variance_score(Y_test, prediction)"
   ]
  },
  {
   "cell_type": "code",
   "execution_count": 51,
   "metadata": {
    "collapsed": false
   },
   "outputs": [
    {
     "name": "stdout",
     "output_type": "stream",
     "text": [
      "0.94065719477\n"
     ]
    },
    {
     "data": {
      "text/plain": [
       "0.43163422685872643"
      ]
     },
     "execution_count": 51,
     "metadata": {},
     "output_type": "execute_result"
    }
   ],
   "source": [
    "from sklearn.ensemble import GradientBoostingRegressor\n",
    "model= GradientBoostingRegressor().fit(X_train, Y_train)\n",
    "prediction=model.predict(X_test)\n",
    "print mean_absolute_error(Y_test, prediction)\n",
    "explained_variance_score(Y_test, prediction)"
   ]
  },
  {
   "cell_type": "code",
   "execution_count": 40,
   "metadata": {
    "collapsed": false
   },
   "outputs": [
    {
     "data": {
      "text/plain": [
       "<matplotlib.axes._subplots.AxesSubplot at 0x7fd55046ab50>"
      ]
     },
     "execution_count": 40,
     "metadata": {},
     "output_type": "execute_result"
    },
    {
     "data": {
      "image/png": "[encoded data removed]",
      "text/plain": [
       "<matplotlib.figure.Figure at 0x7fd5505a67d0>"
      ]
     },
     "metadata": {},
     "output_type": "display_data"
    }
   ],
   "source": [
    "fig, (ax1, ax2)=plt.subplots(1,2)\n",
    "sb.boxplot(test_data['F9'], ax=ax1)\n",
    "sb.boxplot(test_data['F10'], ax=ax2)"
   ]
  },
  {
   "cell_type": "code",
   "execution_count": 41,
   "metadata": {
    "collapsed": false
   },
   "outputs": [
    {
     "data": {
      "text/plain": [
       "<matplotlib.axes._subplots.AxesSubplot at 0x7fd550637550>"
      ]
     },
     "execution_count": 41,
     "metadata": {},
     "output_type": "execute_result"
    },
    {
     "data": {
      "image/png": "[encoded data removed]",
      "text/plain": [
       "<matplotlib.figure.Figure at 0x7fd5505d0c50>"
      ]
     },
     "metadata": {},
     "output_type": "display_data"
    }
   ],
   "source": [
    "fig, (ax1, ax2)=plt.subplots(1,2)\n",
    "sb.boxplot(test_data['F11'], ax=ax1)\n",
    "sb.boxplot(test_data['F12'], ax=ax2)"
   ]
  },
  {
   "cell_type": "code",
   "execution_count": null,
   "metadata": {
    "collapsed": true
   },
   "outputs": [],
   "source": []
  }
 ],
 "metadata": {
  "kernelspec": {
   "display_name": "Python 2",
   "language": "python",
   "name": "python2"
  },
  "language_info": {
   "codemirror_mode": {
    "name": "ipython",
    "version": 2
   },
   "file_extension": ".py",
   "mimetype": "text/x-python",
   "name": "python",
   "nbconvert_exporter": "python",
   "pygments_lexer": "ipython2",
   "version": "2.7.12"
  }
 },
 "nbformat": 4,
 "nbformat_minor": 2
}
